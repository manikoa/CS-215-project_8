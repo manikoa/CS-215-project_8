{
 "cells": [
  {
   "cell_type": "markdown",
   "id": "e4c3a401",
   "metadata": {},
   "source": [
    "# Working with personal data requests\n"
   ]
  },
  {
   "cell_type": "code",
   "execution_count": 1,
   "id": "59b581a3",
   "metadata": {},
   "outputs": [],
   "source": [
    "import pandas as pd\n",
    "import numpy as np\n",
    "from matplotlib import pyplot as plt"
   ]
  },
  {
   "cell_type": "markdown",
   "id": "d65ea541",
   "metadata": {},
   "source": [
    "# Part 1:\n",
    "\n",
    "Import your own personal data file (or better yet, several of them!). Extract just the timestamp data. Export this timestamp data as a CSV file and save it on your machine."
   ]
  },
  {
   "cell_type": "code",
   "execution_count": 2,
   "id": "311eabc7",
   "metadata": {},
   "outputs": [],
   "source": [
    "search_hist = pd.read_json(\"SearchQueries.json\")"
   ]
  },
  {
   "cell_type": "code",
   "execution_count": 3,
   "id": "c696475a",
   "metadata": {},
   "outputs": [],
   "source": [
    "def truncateTime(timestamp):\n",
    "    return(timestamp[:19])"
   ]
  },
  {
   "cell_type": "code",
   "execution_count": 4,
   "id": "4154061f",
   "metadata": {},
   "outputs": [
    {
     "data": {
      "text/plain": [
       "'2023-07-29T05:29:30'"
      ]
     },
     "execution_count": 4,
     "metadata": {},
     "output_type": "execute_result"
    }
   ],
   "source": [
    "truncateTime('2023-07-29T05:29:30.638Z[UTC]')"
   ]
  },
  {
   "cell_type": "code",
   "execution_count": 5,
   "id": "e7f7ff63",
   "metadata": {},
   "outputs": [],
   "source": [
    "search_hist['Time_Short']=search_hist['searchTime'].apply(truncateTime)"
   ]
  },
  {
   "cell_type": "code",
   "execution_count": 6,
   "id": "089459cd",
   "metadata": {},
   "outputs": [],
   "source": [
    "search_hist['Time']=pd.to_datetime(search_hist['Time_Short'])"
   ]
  },
  {
   "cell_type": "code",
   "execution_count": 7,
   "id": "b05d63c1",
   "metadata": {},
   "outputs": [],
   "source": [
    "search_hist[\"Time\"].to_csv(\"spotify_timestamps.csv\")"
   ]
  },
  {
   "cell_type": "code",
   "execution_count": 8,
   "id": "6a641338",
   "metadata": {},
   "outputs": [],
   "source": [
    "df_spotify = pd.read_csv(\"spotify_timestamps.csv\")"
   ]
  },
  {
   "cell_type": "markdown",
   "id": "f6c208c6",
   "metadata": {},
   "source": [
    "# Part 2:"
   ]
  },
  {
   "cell_type": "code",
   "execution_count": 9,
   "id": "ae8bb113",
   "metadata": {},
   "outputs": [],
   "source": [
    "timestamps = pd.read_csv(\"maniko.csv\")"
   ]
  },
  {
   "cell_type": "code",
   "execution_count": 10,
   "id": "13f51cd5",
   "metadata": {},
   "outputs": [],
   "source": [
    "timestamps['datetime'] = pd.to_datetime(timestamps['time'])"
   ]
  },
  {
   "cell_type": "code",
   "execution_count": 11,
   "id": "547caffb",
   "metadata": {},
   "outputs": [],
   "source": [
    "time_sorted = timestamps.sort_values(by = 'datetime', ascending = True)"
   ]
  },
  {
   "cell_type": "code",
   "execution_count": 12,
   "id": "269936a9",
   "metadata": {},
   "outputs": [],
   "source": [
    "# Creating a new column that shows the difference between the time stamps. Obviously the first entry should be NaT.\n",
    "time_sorted['difference'] = time_sorted['datetime'].diff()"
   ]
  },
  {
   "cell_type": "code",
   "execution_count": 13,
   "id": "3565ea93",
   "metadata": {},
   "outputs": [
    {
     "name": "stdout",
     "output_type": "stream",
     "text": [
      "0 days 01:42:07\n",
      "0 days 00:00:04.465730014\n"
     ]
    }
   ],
   "source": [
    "# what is the max difference? what is the average difference?\n",
    "print(time_sorted['difference'].max())\n",
    "print(time_sorted['difference'].mean())"
   ]
  },
  {
   "cell_type": "markdown",
   "id": "3770aa38",
   "metadata": {},
   "source": [
    "The longest in between timestamps is 1 hour 42 minutes and 7 seconds. The average time in between time stamps is about 4.5 seconds. "
   ]
  },
  {
   "cell_type": "code",
   "execution_count": 14,
   "id": "eafc4ca6",
   "metadata": {},
   "outputs": [],
   "source": [
    "time_sorted['day'] = (pd.DatetimeIndex(time_sorted['datetime']).day )\n",
    "\n",
    "time_sorted['month'] = pd.DatetimeIndex(time_sorted['datetime']).month \n",
    "\n",
    "time_sorted['month.day'] = time_sorted['day']/100+time_sorted['month']"
   ]
  },
  {
   "cell_type": "code",
   "execution_count": 15,
   "id": "c7ba9483",
   "metadata": {},
   "outputs": [
    {
     "data": {
      "text/html": [
       "<div>\n",
       "<style scoped>\n",
       "    .dataframe tbody tr th:only-of-type {\n",
       "        vertical-align: middle;\n",
       "    }\n",
       "\n",
       "    .dataframe tbody tr th {\n",
       "        vertical-align: top;\n",
       "    }\n",
       "\n",
       "    .dataframe thead th {\n",
       "        text-align: right;\n",
       "    }\n",
       "</style>\n",
       "<table border=\"1\" class=\"dataframe\">\n",
       "  <thead>\n",
       "    <tr style=\"text-align: right;\">\n",
       "      <th></th>\n",
       "      <th>Unnamed: 0</th>\n",
       "      <th>difference</th>\n",
       "      <th>day</th>\n",
       "      <th>month</th>\n",
       "      <th>month.day</th>\n",
       "    </tr>\n",
       "  </thead>\n",
       "  <tbody>\n",
       "    <tr>\n",
       "      <th>count</th>\n",
       "      <td>35591.000000</td>\n",
       "      <td>35591</td>\n",
       "      <td>35591.0</td>\n",
       "      <td>35591.0</td>\n",
       "      <td>3.559100e+04</td>\n",
       "    </tr>\n",
       "    <tr>\n",
       "      <th>mean</th>\n",
       "      <td>240010.000000</td>\n",
       "      <td>0 days 00:00:02.427636200</td>\n",
       "      <td>26.0</td>\n",
       "      <td>10.0</td>\n",
       "      <td>1.026000e+01</td>\n",
       "    </tr>\n",
       "    <tr>\n",
       "      <th>std</th>\n",
       "      <td>10274.381052</td>\n",
       "      <td>0 days 00:00:22.067636824</td>\n",
       "      <td>0.0</td>\n",
       "      <td>0.0</td>\n",
       "      <td>5.149731e-12</td>\n",
       "    </tr>\n",
       "    <tr>\n",
       "      <th>min</th>\n",
       "      <td>222215.000000</td>\n",
       "      <td>0 days 00:00:00</td>\n",
       "      <td>26.0</td>\n",
       "      <td>10.0</td>\n",
       "      <td>1.026000e+01</td>\n",
       "    </tr>\n",
       "    <tr>\n",
       "      <th>25%</th>\n",
       "      <td>231112.500000</td>\n",
       "      <td>0 days 00:00:00</td>\n",
       "      <td>26.0</td>\n",
       "      <td>10.0</td>\n",
       "      <td>1.026000e+01</td>\n",
       "    </tr>\n",
       "    <tr>\n",
       "      <th>50%</th>\n",
       "      <td>240010.000000</td>\n",
       "      <td>0 days 00:00:00</td>\n",
       "      <td>26.0</td>\n",
       "      <td>10.0</td>\n",
       "      <td>1.026000e+01</td>\n",
       "    </tr>\n",
       "    <tr>\n",
       "      <th>75%</th>\n",
       "      <td>248907.500000</td>\n",
       "      <td>0 days 00:00:01</td>\n",
       "      <td>26.0</td>\n",
       "      <td>10.0</td>\n",
       "      <td>1.026000e+01</td>\n",
       "    </tr>\n",
       "    <tr>\n",
       "      <th>max</th>\n",
       "      <td>257805.000000</td>\n",
       "      <td>0 days 00:17:27</td>\n",
       "      <td>26.0</td>\n",
       "      <td>10.0</td>\n",
       "      <td>1.026000e+01</td>\n",
       "    </tr>\n",
       "  </tbody>\n",
       "</table>\n",
       "</div>"
      ],
      "text/plain": [
       "          Unnamed: 0                 difference      day    month  \\\n",
       "count   35591.000000                      35591  35591.0  35591.0   \n",
       "mean   240010.000000  0 days 00:00:02.427636200     26.0     10.0   \n",
       "std     10274.381052  0 days 00:00:22.067636824      0.0      0.0   \n",
       "min    222215.000000            0 days 00:00:00     26.0     10.0   \n",
       "25%    231112.500000            0 days 00:00:00     26.0     10.0   \n",
       "50%    240010.000000            0 days 00:00:00     26.0     10.0   \n",
       "75%    248907.500000            0 days 00:00:01     26.0     10.0   \n",
       "max    257805.000000            0 days 00:17:27     26.0     10.0   \n",
       "\n",
       "          month.day  \n",
       "count  3.559100e+04  \n",
       "mean   1.026000e+01  \n",
       "std    5.149731e-12  \n",
       "min    1.026000e+01  \n",
       "25%    1.026000e+01  \n",
       "50%    1.026000e+01  \n",
       "75%    1.026000e+01  \n",
       "max    1.026000e+01  "
      ]
     },
     "execution_count": 15,
     "metadata": {},
     "output_type": "execute_result"
    }
   ],
   "source": [
    "# Finding the most common day in the dataset. \n",
    "time_sorted['day'].mode()\n",
    "# Creating a new dataframe of instances on the 26th\n",
    "df_26 = time_sorted[time_sorted['day']==26]\n",
    "df_26.describe()"
   ]
  },
  {
   "cell_type": "markdown",
   "id": "9bc570de",
   "metadata": {},
   "source": [
    "There were 35591 instances on the 26th."
   ]
  },
  {
   "cell_type": "code",
   "execution_count": 16,
   "id": "248ca254",
   "metadata": {},
   "outputs": [
    {
     "data": {
      "text/plain": [
       "0    10\n",
       "Name: month, dtype: int64"
      ]
     },
     "execution_count": 16,
     "metadata": {},
     "output_type": "execute_result"
    }
   ],
   "source": [
    "# Finding what month had the most instances\n",
    "time_sorted['month'].mode()"
   ]
  },
  {
   "cell_type": "code",
   "execution_count": 17,
   "id": "04a4743b",
   "metadata": {},
   "outputs": [],
   "source": [
    "df_oct = time_sorted[time_sorted['month']==10]"
   ]
  },
  {
   "cell_type": "code",
   "execution_count": 18,
   "id": "ef8b9d95",
   "metadata": {},
   "outputs": [
    {
     "data": {
      "text/html": [
       "<div>\n",
       "<style scoped>\n",
       "    .dataframe tbody tr th:only-of-type {\n",
       "        vertical-align: middle;\n",
       "    }\n",
       "\n",
       "    .dataframe tbody tr th {\n",
       "        vertical-align: top;\n",
       "    }\n",
       "\n",
       "    .dataframe thead th {\n",
       "        text-align: right;\n",
       "    }\n",
       "</style>\n",
       "<table border=\"1\" class=\"dataframe\">\n",
       "  <thead>\n",
       "    <tr style=\"text-align: right;\">\n",
       "      <th></th>\n",
       "      <th>Unnamed: 0</th>\n",
       "      <th>difference</th>\n",
       "      <th>day</th>\n",
       "      <th>month</th>\n",
       "      <th>month.day</th>\n",
       "    </tr>\n",
       "  </thead>\n",
       "  <tbody>\n",
       "    <tr>\n",
       "      <th>count</th>\n",
       "      <td>393102.000000</td>\n",
       "      <td>393101</td>\n",
       "      <td>393102.000000</td>\n",
       "      <td>393102.0</td>\n",
       "      <td>393102.000000</td>\n",
       "    </tr>\n",
       "    <tr>\n",
       "      <th>mean</th>\n",
       "      <td>326589.500000</td>\n",
       "      <td>0 days 00:00:04.329429332</td>\n",
       "      <td>21.951384</td>\n",
       "      <td>10.0</td>\n",
       "      <td>10.219514</td>\n",
       "    </tr>\n",
       "    <tr>\n",
       "      <th>std</th>\n",
       "      <td>113478.917096</td>\n",
       "      <td>0 days 00:00:34.986116235</td>\n",
       "      <td>5.663814</td>\n",
       "      <td>0.0</td>\n",
       "      <td>0.056638</td>\n",
       "    </tr>\n",
       "    <tr>\n",
       "      <th>min</th>\n",
       "      <td>130039.000000</td>\n",
       "      <td>0 days 00:00:00</td>\n",
       "      <td>12.000000</td>\n",
       "      <td>10.0</td>\n",
       "      <td>10.120000</td>\n",
       "    </tr>\n",
       "    <tr>\n",
       "      <th>25%</th>\n",
       "      <td>228314.250000</td>\n",
       "      <td>0 days 00:00:00</td>\n",
       "      <td>17.000000</td>\n",
       "      <td>10.0</td>\n",
       "      <td>10.170000</td>\n",
       "    </tr>\n",
       "    <tr>\n",
       "      <th>50%</th>\n",
       "      <td>326589.500000</td>\n",
       "      <td>0 days 00:00:00</td>\n",
       "      <td>22.000000</td>\n",
       "      <td>10.0</td>\n",
       "      <td>10.220000</td>\n",
       "    </tr>\n",
       "    <tr>\n",
       "      <th>75%</th>\n",
       "      <td>424864.750000</td>\n",
       "      <td>0 days 00:00:02</td>\n",
       "      <td>26.000000</td>\n",
       "      <td>10.0</td>\n",
       "      <td>10.260000</td>\n",
       "    </tr>\n",
       "    <tr>\n",
       "      <th>max</th>\n",
       "      <td>523140.000000</td>\n",
       "      <td>0 days 01:42:07</td>\n",
       "      <td>31.000000</td>\n",
       "      <td>10.0</td>\n",
       "      <td>10.310000</td>\n",
       "    </tr>\n",
       "  </tbody>\n",
       "</table>\n",
       "</div>"
      ],
      "text/plain": [
       "          Unnamed: 0                 difference            day     month  \\\n",
       "count  393102.000000                     393101  393102.000000  393102.0   \n",
       "mean   326589.500000  0 days 00:00:04.329429332      21.951384      10.0   \n",
       "std    113478.917096  0 days 00:00:34.986116235       5.663814       0.0   \n",
       "min    130039.000000            0 days 00:00:00      12.000000      10.0   \n",
       "25%    228314.250000            0 days 00:00:00      17.000000      10.0   \n",
       "50%    326589.500000            0 days 00:00:00      22.000000      10.0   \n",
       "75%    424864.750000            0 days 00:00:02      26.000000      10.0   \n",
       "max    523140.000000            0 days 01:42:07      31.000000      10.0   \n",
       "\n",
       "           month.day  \n",
       "count  393102.000000  \n",
       "mean       10.219514  \n",
       "std         0.056638  \n",
       "min        10.120000  \n",
       "25%        10.170000  \n",
       "50%        10.220000  \n",
       "75%        10.260000  \n",
       "max        10.310000  "
      ]
     },
     "execution_count": 18,
     "metadata": {},
     "output_type": "execute_result"
    }
   ],
   "source": [
    "df_oct.describe()"
   ]
  },
  {
   "cell_type": "markdown",
   "id": "a3d260e6",
   "metadata": {},
   "source": [
    "There were 393101 timestamps in October. wow!"
   ]
  },
  {
   "cell_type": "code",
   "execution_count": 19,
   "id": "20d45e98",
   "metadata": {},
   "outputs": [
    {
     "data": {
      "text/plain": [
       "Text(0, 0.5, 'Number of Instances')"
      ]
     },
     "execution_count": 19,
     "metadata": {},
     "output_type": "execute_result"
    },
    {
     "data": {
      "image/png": "[encoded data removed]",
      "text/plain": [
       "<Figure size 640x480 with 1 Axes>"
      ]
     },
     "metadata": {},
     "output_type": "display_data"
    }
   ],
   "source": [
    "plt.bar(time_sorted['day'].value_counts().keys(), time_sorted['day'].value_counts(), color = 'lavender', edgecolor = 'black')\n",
    "plt.xlabel('Day')\n",
    "plt.ylabel('Number of Instances')"
   ]
  },
  {
   "cell_type": "markdown",
   "id": "f3531698",
   "metadata": {},
   "source": [
    "This visualization can tell us what days that the data is gathered on and how many times it was gathered on that day. The gap in data for 9,10, and 11 is due to data not being collected on the 9th, 10th, or 11th. Unfortunately,  the data only has day values and does not include months in relation to the day. So, 15 includees all values from October 15 and November 15. In this case, it shows that data was not gathered on the 9th, 10th, or 11th. Interesting!"
   ]
  },
  {
   "cell_type": "markdown",
   "id": "f6c82a64",
   "metadata": {},
   "source": [
    "7. What do you think the source of this data is? Write a few sentences explaining your reasoning, as well as what other data might help you verify if you are correct?\n",
    "\n",
    "I think that the source of this data could be google activity because of how many data points there are per day. By google activity, I mean activity in all of Maniko's google applications. I don't think it is restricted to actions that Maniko initiated himself, background functions are still recorded. This would explain how the time difference never got above 2 hours. "
   ]
  },
  {
   "cell_type": "markdown",
   "id": "b2a26c89",
   "metadata": {},
   "source": [
    "8. Exchange your analysis with your partner. Read your partner's analysis -- does it seem accurate? Did they guess the correct data source (or type of data source)?\n",
    "\n",
    "Yes, it seemed accurate. Maniko guessed that it was some kind of search history based on the fact that the times were either very spread apart or really close together. "
   ]
  },
  {
   "cell_type": "markdown",
   "id": "708f12e5",
   "metadata": {},
   "source": [
    "9. For the days and months that your partner identified as having the most timestamps in your data, try to figure out what was happening on those days. What other data might help you figure this out?\n",
    "\n",
    "I think the days that have more timestamps could be days that he spent more time on the computer. Perhaps they are days he wrote essays on or even possibly days he attended our class. Both of these reasons could explain an increase in online footprint, so to speak. "
   ]
  },
  {
   "cell_type": "markdown",
   "id": "ff0f28c5",
   "metadata": {},
   "source": [
    "# Part 3:"
   ]
  },
  {
   "cell_type": "code",
   "execution_count": 20,
   "id": "6d1debbc",
   "metadata": {},
   "outputs": [],
   "source": [
    "time_sorted2 = pd.read_csv('time_sorted.csv')\n",
    "search_hist2 = pd.read_csv('search_hist.csv')"
   ]
  },
  {
   "cell_type": "code",
   "execution_count": 21,
   "id": "042cd215",
   "metadata": {},
   "outputs": [
    {
     "data": {
      "text/plain": [
       "Text(0, 0.5, 'Percent of Responses')"
      ]
     },
     "execution_count": 21,
     "metadata": {},
     "output_type": "execute_result"
    },
    {
     "data": {
      "image/png": "[encoded data removed]",
      "text/plain": [
       "<Figure size 640x480 with 1 Axes>"
      ]
     },
     "metadata": {},
     "output_type": "display_data"
    }
   ],
   "source": [
    "plt.bar(time_sorted2['day'].value_counts().keys(), time_sorted2['day'].value_counts()/len(time_sorted2['day']), color = 'black', edgecolor = 'black')\n",
    "\n",
    "plt.bar(search_hist2['day'].value_counts().keys(), search_hist2['day'].value_counts()/len(search_hist2['day']), color = 'pink', edgecolor = 'black')\n",
    "\n",
    "plt.xlabel(\"Day\")\n",
    "plt.ylabel(\"Percent of Responses\")\n"
   ]
  },
  {
   "cell_type": "markdown",
   "id": "c82c8883",
   "metadata": {},
   "source": [
    "We noticed that Maniko's data is much more evenly distributed amongst the different days. Jacob's data is very concentrated on certain days with larger gaps where no instances were found. It appears that most of Jacob's data can be found on the 11th and 22th days. "
   ]
  },
  {
   "cell_type": "markdown",
   "id": "25c15424",
   "metadata": {},
   "source": [
    "# Part 4:"
   ]
  },
  {
   "cell_type": "markdown",
   "id": "70c4fa22",
   "metadata": {},
   "source": [
    "## Question 1: What song/songs have a searched for the most?"
   ]
  },
  {
   "cell_type": "code",
   "execution_count": 22,
   "id": "43baf9ac",
   "metadata": {},
   "outputs": [
    {
     "data": {
      "text/plain": [
       "<BarContainer object of 186 artists>"
      ]
     },
     "execution_count": 22,
     "metadata": {},
     "output_type": "execute_result"
    },
    {
     "data": {
      "image/png": "[encoded data removed]",
      "text/plain": [
       "<Figure size 640x480 with 1 Axes>"
      ]
     },
     "metadata": {},
     "output_type": "display_data"
    }
   ],
   "source": [
    "plt.bar(search_hist['searchQuery'].value_counts().keys(), search_hist['searchQuery'].value_counts(), color = 'blue', edgecolor = 'black')"
   ]
  },
  {
   "cell_type": "markdown",
   "id": "058f9858",
   "metadata": {},
   "source": [
    "Interestingly enough, in 3 months, I only repeated 5 searches: t, d, ever, e, ev. Probably just typos! I noticed that almost every search query I made had some kind of typo which made it hard to group them. Perhaps a future project could be to design a machine learning program to group my search queries into groups by key words or something like that. This made it very hard to answer my question. "
   ]
  },
  {
   "cell_type": "markdown",
   "id": "70598183",
   "metadata": {},
   "source": [
    "## Question 2: What time of day do I most commonly search for music?"
   ]
  },
  {
   "cell_type": "code",
   "execution_count": 23,
   "id": "5066f4a2",
   "metadata": {},
   "outputs": [],
   "source": [
    "search_hist['hour']=search_hist['Time'].dt.hour"
   ]
  },
  {
   "cell_type": "markdown",
   "id": "753a12c4",
   "metadata": {},
   "source": [
    "Wait but this is saying that I make most of my search inquires very early in the morning? I realized that the to_datetime function takes the time to UTC which is 8 hours ahead of pacific standard time. Therefore, I need to subtract 8 mod 24 from each of the hours to find the actual time I searched at. "
   ]
  },
  {
   "cell_type": "code",
   "execution_count": 24,
   "id": "539eb41f",
   "metadata": {},
   "outputs": [],
   "source": [
    "search_hist['hour_adj']=(search_hist['hour']-8)%24"
   ]
  },
  {
   "cell_type": "code",
   "execution_count": 25,
   "id": "0abfc7f1",
   "metadata": {},
   "outputs": [
    {
     "data": {
      "text/plain": [
       "Text(0, 0.5, 'Number of Searches')"
      ]
     },
     "execution_count": 25,
     "metadata": {},
     "output_type": "execute_result"
    },
    {
     "data": {
      "image/png": "[encoded data removed]",
      "text/plain": [
       "<Figure size 640x480 with 1 Axes>"
      ]
     },
     "metadata": {},
     "output_type": "display_data"
    }
   ],
   "source": [
    "plt.bar(search_hist['hour_adj'].value_counts().keys(), search_hist['hour_adj'].value_counts(), color = 'skyblue', edgecolor = 'black')\n",
    "\n",
    "plt.xlabel(\"Hour of Day\")\n",
    "plt.ylabel(\"Number of Searches\")"
   ]
  },
  {
   "cell_type": "markdown",
   "id": "4af2da82",
   "metadata": {},
   "source": [
    "According to this chart, I did not ever make spotify searches between the hours of 11pm and 8am during the months of july to october 2023. Also, I often make spotify searches at 7pm. "
   ]
  }
 ],
 "metadata": {
  "kernelspec": {
   "display_name": "Python 3 (ipykernel)",
   "language": "python",
   "name": "python3"
  },
  "language_info": {
   "codemirror_mode": {
    "name": "ipython",
    "version": 3
   },
   "file_extension": ".py",
   "mimetype": "text/x-python",
   "name": "python",
   "nbconvert_exporter": "python",
   "pygments_lexer": "ipython3",
   "version": "3.9.17"
  }
 },
 "nbformat": 4,
 "nbformat_minor": 5
}
